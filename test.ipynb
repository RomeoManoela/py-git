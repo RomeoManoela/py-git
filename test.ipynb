{
 "cells": [
  {
   "cell_type": "code",
   "id": "initial_id",
   "metadata": {
    "collapsed": true,
    "ExecuteTime": {
     "end_time": "2025-05-01T19:20:32.427408Z",
     "start_time": "2025-05-01T19:20:32.414501Z"
    }
   },
   "source": [
    "import hashlib\n",
    "import os\n",
    "import shutil\n",
    "from itertools import zip_longest\n",
    "from itertools import zip_longest"
   ],
   "outputs": [],
   "execution_count": 17
  },
  {
   "metadata": {
    "ExecuteTime": {
     "end_time": "2025-05-01T18:55:01.470303Z",
     "start_time": "2025-05-01T18:55:01.462162Z"
    }
   },
   "cell_type": "code",
   "source": [
    "BACKUP_DIR = \"backup\"\n",
    "if not os.path.exists(BACKUP_DIR):\n",
    "    os.mkdir(BACKUP_DIR)"
   ],
   "id": "e6435a76ca2d67d7",
   "outputs": [],
   "execution_count": 6
  },
  {
   "metadata": {
    "ExecuteTime": {
     "end_time": "2025-05-01T19:15:04.298756Z",
     "start_time": "2025-05-01T19:15:04.287053Z"
    }
   },
   "cell_type": "code",
   "source": [
    "with open(\"add_func.py\", \"rb\") as f:\n",
    "    data: bytes = f.read()\n",
    "    hash_str: str = hashlib.sha1(data).hexdigest()\n",
    "    print(hash_str)\n",
    "backup_path = os.path.join(BACKUP_DIR, f\"{hash_str}\")\n",
    "shutil.copy2(\"add_func.py\", backup_path)"
   ],
   "id": "3254212a8fb75233",
   "outputs": [
    {
     "name": "stdout",
     "output_type": "stream",
     "text": [
      "43dee31a0d12bb5f6b0099f2ce41fac53e6c52bd\n"
     ]
    },
    {
     "data": {
      "text/plain": [
       "'backup/43dee31a0d12bb5f6b0099f2ce41fac53e6c52bd'"
      ]
     },
     "execution_count": 12,
     "metadata": {},
     "output_type": "execute_result"
    }
   ],
   "execution_count": 12
  },
  {
   "metadata": {
    "ExecuteTime": {
     "end_time": "2025-05-01T19:15:11.749404Z",
     "start_time": "2025-05-01T19:15:11.734534Z"
    }
   },
   "cell_type": "code",
   "source": [
    "with open(\"add_func.py\", \"rb\") as f:\n",
    "    data: bytes = f.read()\n",
    "    hash_str: str = hashlib.sha1(data).hexdigest()\n",
    "    print(hash_str)\n",
    "backup_path = os.path.join(BACKUP_DIR, f\"{hash_str}\")\n",
    "shutil.copy2(\"add_func.py\", backup_path)"
   ],
   "id": "19d4835d750bafd1",
   "outputs": [
    {
     "name": "stdout",
     "output_type": "stream",
     "text": [
      "f9157c6acfcb189df3ef4d1509a1ef60d48e5890\n"
     ]
    },
    {
     "data": {
      "text/plain": [
       "'backup/f9157c6acfcb189df3ef4d1509a1ef60d48e5890'"
      ]
     },
     "execution_count": 13,
     "metadata": {},
     "output_type": "execute_result"
    }
   ],
   "execution_count": 13
  },
  {
   "metadata": {
    "ExecuteTime": {
     "end_time": "2025-05-01T19:15:21.394327Z",
     "start_time": "2025-05-01T19:15:21.353022Z"
    }
   },
   "cell_type": "code",
   "source": [
    "for filename in os.listdir(BACKUP_DIR):\n",
    "    if filename.startswith(\"43dee31a0d12bb5f6b0099f2ce41fac53e6c52bd\"):\n",
    "        backup_path = os.path.join(BACKUP_DIR, filename)\n",
    "        shutil.copy2(backup_path, \"add_func.py\")\n",
    "\n"
   ],
   "id": "9f3fdbeab768b423",
   "outputs": [],
   "execution_count": 14
  },
  {
   "metadata": {
    "ExecuteTime": {
     "end_time": "2025-05-01T19:20:36.323625Z",
     "start_time": "2025-05-01T19:20:36.293781Z"
    }
   },
   "cell_type": "code",
   "source": [
    "with open('add_func.py', 'r') as f1, open(f\"{BACKUP_DIR}/43dee31a0d12bb5f6b0099f2ce41fac53e6c52bd\", \"r\") as f2:\n",
    "    for i, (line1, line2) in enumerate(zip_longest(f1, f2), start=1):\n",
    "        l1 = line1.strip() if line1 else \"[no line]\"\n",
    "        l2 = line2.strip() if line2 else \"[no ligne]\"\n",
    "        if line1 != line2:\n",
    "            print(f\"Line {i} is different\")\n",
    "            print(f\"File 1: {line1}\")\n",
    "            print(f\"File 2: {line2}\")\n",
    "\n",
    "\n"
   ],
   "id": "dd39daad25a307cd",
   "outputs": [
    {
     "name": "stdout",
     "output_type": "stream",
     "text": [
      "Line 2 is different\n",
      "File 1:     return a + b\n",
      "\n",
      "File 2:     return a + b + 0\n",
      "\n"
     ]
    }
   ],
   "execution_count": 18
  }
 ],
 "metadata": {
  "kernelspec": {
   "display_name": "Python 3",
   "language": "python",
   "name": "python3"
  },
  "language_info": {
   "codemirror_mode": {
    "name": "ipython",
    "version": 2
   },
   "file_extension": ".py",
   "mimetype": "text/x-python",
   "name": "python",
   "nbconvert_exporter": "python",
   "pygments_lexer": "ipython2",
   "version": "2.7.6"
  }
 },
 "nbformat": 4,
 "nbformat_minor": 5
}
